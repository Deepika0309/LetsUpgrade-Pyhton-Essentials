{
 "cells": [
  {
   "cell_type": "markdown",
   "metadata": {},
   "source": [
    "# Assignment-1"
   ]
  },
  {
   "cell_type": "code",
   "execution_count": 6,
   "metadata": {},
   "outputs": [
    {
     "name": "stdout",
     "output_type": "stream",
     "text": [
      "Enter the length of list 5\n",
      "Enter the number 1\n",
      "Enter the number 2\n",
      "Enter the number 5\n",
      "Enter the number 3\n",
      "Enter the number 1\n",
      "It's Gone\n"
     ]
    }
   ],
   "source": [
    "length = int(input(\"Enter the length of list \"))\n",
    "\n",
    "test=[1,1,5]\n",
    "\n",
    "lst=[]\n",
    "\n",
    "for i in range (0,length):\n",
    "\n",
    "    inp = int(input(\"Enter the number \"))\n",
    "\n",
    "    lst.append(inp)\n",
    "\n",
    "    \n",
    "\n",
    "j=0\n",
    "\n",
    "\n",
    " \n",
    "\n",
    "for i in range (0,length):\n",
    "\n",
    "    if(lst[i] == test[j]):\n",
    "\n",
    "        j += 1\n",
    "\n",
    "        i += 1\n",
    "\n",
    "    else:\n",
    "\n",
    "        i += 1\n",
    "\n",
    "\n",
    " \n",
    "\n",
    "if(j == 3):\n",
    "\n",
    "    print (\"It's a match\")\n",
    "\n",
    "else:\n",
    "\n",
    "    print (\"It's Gone\")"
   ]
  },
  {
   "cell_type": "code",
   "execution_count": 7,
   "metadata": {},
   "outputs": [
    {
     "name": "stdout",
     "output_type": "stream",
     "text": [
      "Enter the length of list 5\n",
      "Enter the number 1\n",
      "Enter the number 2\n",
      "Enter the number 1\n",
      "Enter the number 3\n",
      "Enter the number 5\n",
      "It's a match\n"
     ]
    }
   ],
   "source": [
    "length = int(input(\"Enter the length of list \"))\n",
    "\n",
    "test=[1,1,5]\n",
    "\n",
    "lst=[]\n",
    "\n",
    "for i in range (0,length):\n",
    "\n",
    "    inp = int(input(\"Enter the number \"))\n",
    "\n",
    "    lst.append(inp)\n",
    "\n",
    "    \n",
    "\n",
    "j=0\n",
    "\n",
    "\n",
    " \n",
    "\n",
    "for i in range (0,length):\n",
    "\n",
    "    if(lst[i] == test[j]):\n",
    "\n",
    "        j += 1\n",
    "\n",
    "        i += 1\n",
    "\n",
    "    else:\n",
    "\n",
    "        i += 1\n",
    "\n",
    "\n",
    " \n",
    "\n",
    "if(j == 3):\n",
    "\n",
    "    print (\"It's a match\")\n",
    "\n",
    "else:\n",
    "\n",
    "    print (\"It's Gone\")"
   ]
  },
  {
   "cell_type": "markdown",
   "metadata": {},
   "source": [
    "# Assignment-2 "
   ]
  },
  {
   "cell_type": "code",
   "execution_count": 8,
   "metadata": {},
   "outputs": [
    {
     "name": "stdout",
     "output_type": "stream",
     "text": [
      "Prime numbers between 1-10: [3, 5, 7, 9]\n"
     ]
    }
   ],
   "source": [
    "def isPrime(x):\n",
    "    for n in range(2,x):\n",
    "        if x%n==0:\n",
    "            return False\n",
    "        else:\n",
    "            return True\n",
    "\n",
    "fltrObj=filter(isPrime, range(10))\n",
    "print ('Prime numbers between 1-10:', list(fltrObj))"
   ]
  },
  {
   "cell_type": "markdown",
   "metadata": {},
   "source": [
    "# Assignment-3"
   ]
  },
  {
   "cell_type": "code",
   "execution_count": 9,
   "metadata": {},
   "outputs": [
    {
     "name": "stdout",
     "output_type": "stream",
     "text": [
      "Hello. My name is Joe. What is your name?\n"
     ]
    }
   ],
   "source": [
    "import re\n",
    "\n",
    "def sentenceCapitalizer(text):\n",
    "    return re.sub(r\"(\\.\\s+|^)(\\w+)\",\n",
    "                  lambda m: m.group(1) + m.group(2).capitalize(),\n",
    "                  text)\n",
    "\n",
    "s = \"hEllo. my name is Joe. what is your name?\"\n",
    "print(sentenceCapitalizer(s))"
   ]
  },
  {
   "cell_type": "code",
   "execution_count": null,
   "metadata": {},
   "outputs": [],
   "source": []
  }
 ],
 "metadata": {
  "kernelspec": {
   "display_name": "Python 3",
   "language": "python",
   "name": "python3"
  },
  "language_info": {
   "codemirror_mode": {
    "name": "ipython",
    "version": 3
   },
   "file_extension": ".py",
   "mimetype": "text/x-python",
   "name": "python",
   "nbconvert_exporter": "python",
   "pygments_lexer": "ipython3",
   "version": "3.8.3"
  }
 },
 "nbformat": 4,
 "nbformat_minor": 4
}
